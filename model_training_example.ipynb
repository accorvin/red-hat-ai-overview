{
 "cells": [
  {
   "cell_type": "markdown",
   "id": "a102f2d6-0afa-4e05-851a-e6a309c30573",
   "metadata": {},
   "source": [
    "# Install the code dependencies"
   ]
  },
  {
   "cell_type": "code",
   "execution_count": 1,
   "id": "e9c040b5-b8b4-449e-8d23-a4e917c98589",
   "metadata": {
    "tags": []
   },
   "outputs": [
    {
     "name": "stdout",
     "output_type": "stream",
     "text": [
      "Collecting torch\n",
      "  Downloading torch-2.3.1-cp310-none-macosx_11_0_arm64.whl (61.0 MB)\n",
      "\u001b[2K     \u001b[90m━━━━━━━━━━━━━━━━━━━━━━━━━━━━━━━━━━━━━━━━\u001b[0m \u001b[32m61.0/61.0 MB\u001b[0m \u001b[31m19.3 MB/s\u001b[0m eta \u001b[36m0:00:00\u001b[0m00:01\u001b[0m00:01\u001b[0m\n",
      "\u001b[?25hCollecting torchvision\n",
      "  Downloading torchvision-0.18.1-cp310-cp310-macosx_11_0_arm64.whl (1.6 MB)\n",
      "\u001b[2K     \u001b[90m━━━━━━━━━━━━━━━━━━━━━━━━━━━━━━━━━━━━━━━━\u001b[0m \u001b[32m1.6/1.6 MB\u001b[0m \u001b[31m27.4 MB/s\u001b[0m eta \u001b[36m0:00:00\u001b[0ma \u001b[36m0:00:01\u001b[0m\n",
      "\u001b[?25hRequirement already satisfied: fsspec in /Users/acorvin/.pyenv/versions/3.10.13/lib/python3.10/site-packages (from torch) (2024.2.0)\n",
      "Requirement already satisfied: filelock in /Users/acorvin/.pyenv/versions/3.10.13/lib/python3.10/site-packages (from torch) (3.12.4)\n",
      "Collecting networkx\n",
      "  Downloading networkx-3.3-py3-none-any.whl (1.7 MB)\n",
      "\u001b[2K     \u001b[90m━━━━━━━━━━━━━━━━━━━━━━━━━━━━━━━━━━━━━━━━\u001b[0m \u001b[32m1.7/1.7 MB\u001b[0m \u001b[31m27.2 MB/s\u001b[0m eta \u001b[36m0:00:00\u001b[0ma \u001b[36m0:00:01\u001b[0m\n",
      "\u001b[?25hRequirement already satisfied: jinja2 in /Users/acorvin/.pyenv/versions/3.10.13/lib/python3.10/site-packages (from torch) (3.1.2)\n",
      "Collecting sympy\n",
      "  Downloading sympy-1.12.1-py3-none-any.whl (5.7 MB)\n",
      "\u001b[2K     \u001b[90m━━━━━━━━━━━━━━━━━━━━━━━━━━━━━━━━━━━━━━━━\u001b[0m \u001b[32m5.7/5.7 MB\u001b[0m \u001b[31m27.0 MB/s\u001b[0m eta \u001b[36m0:00:00\u001b[0m00:01\u001b[0m00:01\u001b[0m\n",
      "\u001b[?25hRequirement already satisfied: typing-extensions>=4.8.0 in /Users/acorvin/.pyenv/versions/3.10.13/lib/python3.10/site-packages (from torch) (4.9.0)\n",
      "Requirement already satisfied: pillow!=8.3.*,>=5.3.0 in /Users/acorvin/.pyenv/versions/3.10.13/lib/python3.10/site-packages (from torchvision) (10.2.0)\n",
      "Requirement already satisfied: numpy in /Users/acorvin/.pyenv/versions/3.10.13/lib/python3.10/site-packages (from torchvision) (1.26.4)\n",
      "Requirement already satisfied: MarkupSafe>=2.0 in /Users/acorvin/.pyenv/versions/3.10.13/lib/python3.10/site-packages (from jinja2->torch) (2.1.3)\n",
      "Collecting mpmath<1.4.0,>=1.1.0\n",
      "  Downloading mpmath-1.3.0-py3-none-any.whl (536 kB)\n",
      "\u001b[2K     \u001b[90m━━━━━━━━━━━━━━━━━━━━━━━━━━━━━━━━━━━━━━\u001b[0m \u001b[32m536.2/536.2 kB\u001b[0m \u001b[31m25.0 MB/s\u001b[0m eta \u001b[36m0:00:00\u001b[0m\n",
      "\u001b[?25hInstalling collected packages: mpmath, sympy, networkx, torch, torchvision\n",
      "Successfully installed mpmath-1.3.0 networkx-3.3 sympy-1.12.1 torch-2.3.1 torchvision-0.18.1\n",
      "\n",
      "\u001b[1m[\u001b[0m\u001b[34;49mnotice\u001b[0m\u001b[1;39;49m]\u001b[0m\u001b[39;49m A new release of pip is available: \u001b[0m\u001b[31;49m23.0.1\u001b[0m\u001b[39;49m -> \u001b[0m\u001b[32;49m24.1\u001b[0m\n",
      "\u001b[1m[\u001b[0m\u001b[34;49mnotice\u001b[0m\u001b[1;39;49m]\u001b[0m\u001b[39;49m To update, run: \u001b[0m\u001b[32;49mpip install --upgrade pip\u001b[0m\n"
     ]
    }
   ],
   "source": [
    "!pip install torch torchvision"
   ]
  },
  {
   "cell_type": "markdown",
   "id": "643b9e3b-65cc-4c69-8ba1-776db4ef9994",
   "metadata": {},
   "source": [
    "# Download the data set and split it into test and training data sets"
   ]
  },
  {
   "cell_type": "code",
   "execution_count": 2,
   "id": "3c3d8353-cd78-45c4-99b9-b24d9f95f59d",
   "metadata": {
    "tags": []
   },
   "outputs": [
    {
     "name": "stderr",
     "output_type": "stream",
     "text": [
      "0.0%"
     ]
    },
    {
     "name": "stdout",
     "output_type": "stream",
     "text": [
      "Downloading https://www.cs.toronto.edu/~kriz/cifar-10-python.tar.gz to ./data/cifar-10-python.tar.gz\n"
     ]
    },
    {
     "name": "stderr",
     "output_type": "stream",
     "text": [
      "100.0%\n"
     ]
    },
    {
     "name": "stdout",
     "output_type": "stream",
     "text": [
      "Extracting ./data/cifar-10-python.tar.gz to ./data\n",
      "Files already downloaded and verified\n"
     ]
    }
   ],
   "source": [
    "import torch\n",
    "import torchvision\n",
    "import torchvision.transforms as transforms\n",
    "\n",
    "transform = transforms.Compose(\n",
    "    [transforms.ToTensor(),\n",
    "     transforms.Normalize((0.5, 0.5, 0.5), (0.5, 0.5, 0.5))])\n",
    "\n",
    "# Each training iteration will be passed 4 images\n",
    "# Larger batch size means we'll need to fit more data in memory, it also means we'll be able to parallelize more and get through all of the training data faster\n",
    "# Smaller batch sizes result in the overall model parameters being updated more frequently, so there are more opportunities for the model to learn from the previous batches.\n",
    "batch_size = 4\n",
    "\n",
    "trainset = torchvision.datasets.CIFAR10(root='./data', train=True,\n",
    "                                        download=True, transform=transform)\n",
    "trainloader = torch.utils.data.DataLoader(trainset, batch_size=batch_size,\n",
    "                                          shuffle=True, num_workers=2) #Shuffle the training data so that the model doesn't learn patterns that just happen to be in the training data set\n",
    "\n",
    "testset = torchvision.datasets.CIFAR10(root='./data', train=False,\n",
    "                                       download=True, transform=transform)\n",
    "testloader = torch.utils.data.DataLoader(testset, batch_size=batch_size,\n",
    "                                         shuffle=False, num_workers=2)"
   ]
  },
  {
   "cell_type": "markdown",
   "id": "4e6ed79a-4b4b-4f55-8430-d224c211f330",
   "metadata": {},
   "source": [
    "# Print a random sample of the training data"
   ]
  },
  {
   "cell_type": "code",
   "execution_count": 3,
   "id": "db3c41cd-2a1c-4f71-92af-2f8a27a4c967",
   "metadata": {
    "tags": []
   },
   "outputs": [
    {
     "data": {
      "image/png": "[encoded data removed]",
      "text/plain": [
       "<Figure size 640x480 with 1 Axes>"
      ]
     },
     "metadata": {},
     "output_type": "display_data"
    },
    {
     "name": "stdout",
     "output_type": "stream",
     "text": [
      "frog  deer  frog  ship \n"
     ]
    }
   ],
   "source": [
    "import matplotlib.pyplot as plt\n",
    "import numpy as np\n",
    "\n",
    "# Function to print an image\n",
    "def imshow(img):\n",
    "    img = img / 2 + 0.5     # unnormalize\n",
    "    npimg = img.numpy()\n",
    "    plt.imshow(np.transpose(npimg, (1, 2, 0)))\n",
    "    plt.show()\n",
    "\n",
    "\n",
    "# Pick the first set of images and corresponding labels from the training data set\n",
    "# Because the trainloader uses the \"shuffle=True\" argument, we'll get a different batch every time.\n",
    "# The number of images that will be printed is determined by the \"batch_size = 4\" line above.\n",
    "dataiter = iter(trainloader)\n",
    "images, labels = next(dataiter)\n",
    "\n",
    "classes = ('plane', 'car', 'bird', 'cat',\n",
    "           'deer', 'dog', 'frog', 'horse', 'ship', 'truck')\n",
    "\n",
    "# Show the images\n",
    "imshow(torchvision.utils.make_grid(images))\n",
    "# Print the corresponding labels for each of the images that we'll print out\n",
    "print(' '.join(f'{classes[labels[j]]:5s}' for j in range(batch_size)))"
   ]
  },
  {
   "cell_type": "markdown",
   "id": "a931ebd3-2503-42a4-a470-7bf0f1e7d3ad",
   "metadata": {
    "tags": []
   },
   "source": [
    "# Define the neural network\n",
    "\n",
    "It's difficult to talk through what's going on this code without more time. If you want to dig in here to understand what is going on, I recommend reading more [here](https://pytorch.org/tutorials/beginner/blitz/neural_networks_tutorial.html) and also watching [this video series](https://youtube.com/playlist?list=PLZHQObOWTQDNU6R1_67000Dx_ZCJB-3pi&si=CfGsmkH9siwYFNHl)."
   ]
  },
  {
   "cell_type": "code",
   "execution_count": 4,
   "id": "38b0190a-5cd8-4653-b473-72f1e743cc19",
   "metadata": {
    "tags": []
   },
   "outputs": [],
   "source": [
    "import torch.nn as nn\n",
    "import torch.nn.functional as F\n",
    "\n",
    "\n",
    "class Net(nn.Module):\n",
    "    def __init__(self):\n",
    "        super().__init__()\n",
    "        self.conv1 = nn.Conv2d(3, 6, 5)\n",
    "        self.pool = nn.MaxPool2d(2, 2)\n",
    "        self.conv2 = nn.Conv2d(6, 16, 5)\n",
    "        self.fc1 = nn.Linear(16 * 5 * 5, 120)\n",
    "        self.fc2 = nn.Linear(120, 84)\n",
    "        self.fc3 = nn.Linear(84, 10)\n",
    "\n",
    "    def forward(self, x):\n",
    "        x = self.pool(F.relu(self.conv1(x)))\n",
    "        x = self.pool(F.relu(self.conv2(x)))\n",
    "        x = torch.flatten(x, 1) # flatten all dimensions except batch\n",
    "        x = F.relu(self.fc1(x))\n",
    "        x = F.relu(self.fc2(x))\n",
    "        x = self.fc3(x)\n",
    "        return x\n",
    "\n",
    "\n",
    "net = Net()"
   ]
  },
  {
   "cell_type": "markdown",
   "id": "c6caf589-10da-4feb-87c3-da552bae84cd",
   "metadata": {},
   "source": [
    "# Define the loss function\n",
    "\n",
    "A loss function answers the question of \"how far is the model's outupt from the 'correct' answer?\""
   ]
  },
  {
   "cell_type": "code",
   "execution_count": 5,
   "id": "d2d25bac-0e4a-47f5-8f6e-9b90c62510b0",
   "metadata": {
    "tags": []
   },
   "outputs": [],
   "source": [
    "import torch.optim as optim\n",
    "\n",
    "criterion = nn.CrossEntropyLoss()\n",
    "optimizer = optim.SGD(net.parameters(), lr=0.001, momentum=0.9)"
   ]
  },
  {
   "cell_type": "markdown",
   "id": "a12c6dcb-2758-4f9a-b94f-fe0886103943",
   "metadata": {},
   "source": [
    "# Train the model"
   ]
  },
  {
   "cell_type": "code",
   "execution_count": 6,
   "id": "3b615bce-c787-461e-97a9-992275042825",
   "metadata": {
    "tags": []
   },
   "outputs": [
    {
     "name": "stdout",
     "output_type": "stream",
     "text": [
      "[1,  2000] loss: 2.199\n",
      "[1,  4000] loss: 1.813\n",
      "[1,  6000] loss: 1.641\n",
      "[1,  8000] loss: 1.553\n",
      "[1, 10000] loss: 1.487\n",
      "[1, 12000] loss: 1.412\n",
      "[2,  2000] loss: 1.353\n",
      "[2,  4000] loss: 1.337\n",
      "[2,  6000] loss: 1.325\n",
      "[2,  8000] loss: 1.260\n",
      "[2, 10000] loss: 1.258\n",
      "[2, 12000] loss: 1.236\n",
      "Finished Training\n"
     ]
    }
   ],
   "source": [
    "number_of_epochs = 2 # How many times to loop through the training data. The model can get better the more you train it, but there are limits and caveats\n",
    "for epoch in range(number_of_epochs):\n",
    "    running_loss = 0.0\n",
    "    for i, data in enumerate(trainloader, 0): # Loop through all of the training data\n",
    "        # get the inputs; data is a list of [inputs, labels]\n",
    "        inputs, labels = data\n",
    "\n",
    "        # zero the parameter gradients\n",
    "        optimizer.zero_grad()\n",
    "\n",
    "        # forward + backward + optimize\n",
    "        outputs = net(inputs)\n",
    "        loss = criterion(outputs, labels)\n",
    "        loss.backward()\n",
    "        optimizer.step()\n",
    "\n",
    "        # print statistics\n",
    "        running_loss += loss.item()\n",
    "        if i % 2000 == 1999:    # print every 2000 mini-batches\n",
    "            print(f'[{epoch + 1}, {i + 1:5d}] loss: {running_loss / 2000:.3f}')\n",
    "            running_loss = 0.0\n",
    "\n",
    "print('Finished Training')"
   ]
  },
  {
   "cell_type": "markdown",
   "id": "49dae0bf",
   "metadata": {},
   "source": [
    "# Save the trained model to disk"
   ]
  },
  {
   "cell_type": "code",
   "execution_count": 7,
   "id": "4c56efa5",
   "metadata": {},
   "outputs": [],
   "source": [
    "PATH = './cifar_net.pth'\n",
    "torch.save(net.state_dict(), PATH)"
   ]
  },
  {
   "cell_type": "markdown",
   "id": "498242ea",
   "metadata": {},
   "source": [
    "# Test the trained model"
   ]
  },
  {
   "cell_type": "markdown",
   "id": "3e541398",
   "metadata": {},
   "source": [
    "## Start by choosing a batch of data to test with"
   ]
  },
  {
   "cell_type": "code",
   "execution_count": 8,
   "id": "4b8be354",
   "metadata": {},
   "outputs": [
    {
     "data": {
      "image/png": "[encoded data removed]",
      "text/plain": [
       "<Figure size 640x480 with 1 Axes>"
      ]
     },
     "metadata": {},
     "output_type": "display_data"
    },
    {
     "name": "stdout",
     "output_type": "stream",
     "text": [
      "GroundTruth:  cat   ship  ship  plane\n"
     ]
    }
   ],
   "source": [
    "# Select the first batch of images from the test data set\n",
    "dataiter = iter(testloader)\n",
    "images, labels = next(dataiter)\n",
    "\n",
    "# Print the images and the correct classification for teach image\n",
    "imshow(torchvision.utils.make_grid(images))\n",
    "print('GroundTruth: ', ' '.join(f'{classes[labels[j]]:5s}' for j in range(4)))"
   ]
  },
  {
   "cell_type": "markdown",
   "id": "d6b3b05b",
   "metadata": {},
   "source": [
    "## Next see what the model _thinks_ each image is"
   ]
  },
  {
   "cell_type": "code",
   "execution_count": 9,
   "id": "6f010d0f",
   "metadata": {},
   "outputs": [
    {
     "name": "stdout",
     "output_type": "stream",
     "text": [
      "Predicted:  cat   car   car   plane\n"
     ]
    }
   ],
   "source": [
    "# Load the model from disk\n",
    "net = Net()\n",
    "net.load_state_dict(torch.load(PATH))\n",
    "\n",
    "# Pass the batch of images to the model\n",
    "outputs = net(images)\n",
    "\n",
    "# The output of the model is a list of \"energies\" for each of the image classes. A higher energy corresponds to greater\n",
    "# confidence that the image matches the corresponding image class.\n",
    "# In this block, we determine which classification has the highest energy and print the corresponding class.\n",
    "_, predicted = torch.max(outputs, 1)\n",
    "\n",
    "print('Predicted: ', ' '.join(f'{classes[predicted[j]]:5s}'\n",
    "                              for j in range(4)))"
   ]
  },
  {
   "cell_type": "markdown",
   "id": "bd49ea87",
   "metadata": {},
   "source": [
    "## Now test every image in the training data set and output the total accuracy"
   ]
  },
  {
   "cell_type": "code",
   "execution_count": 10,
   "id": "820ca3cc",
   "metadata": {},
   "outputs": [
    {
     "name": "stdout",
     "output_type": "stream",
     "text": [
      "Accuracy of the network on the 10000 test images: 57 %\n"
     ]
    }
   ],
   "source": [
    "correct = 0\n",
    "total = 0\n",
    "# since we're not training, we don't need to calculate the gradients for our outputs\n",
    "with torch.no_grad():\n",
    "    for data in testloader:\n",
    "        images, labels = data\n",
    "        # calculate outputs by running images through the network\n",
    "        outputs = net(images)\n",
    "        # the class with the highest energy is what we choose as prediction\n",
    "        _, predicted = torch.max(outputs.data, 1)\n",
    "        total += labels.size(0)\n",
    "        correct += (predicted == labels).sum().item()\n",
    "\n",
    "print(f'Accuracy of the network on the 10000 test images: {100 * correct // total} %')"
   ]
  },
  {
   "cell_type": "markdown",
   "id": "33374204-8019-4335-a9ca-693a049b4fa3",
   "metadata": {},
   "source": [
    "Credit to [this tutorial](https://pytorch.org/tutorials/beginner/blitz/cifar10_tutorial.html) for this code."
   ]
  }
 ],
 "metadata": {
  "kernelspec": {
   "display_name": "Python 3.9",
   "language": "python",
   "name": "python3"
  },
  "language_info": {
   "codemirror_mode": {
    "name": "ipython",
    "version": 3
   },
   "file_extension": ".py",
   "mimetype": "text/x-python",
   "name": "python",
   "nbconvert_exporter": "python",
   "pygments_lexer": "ipython3",
   "version": "3.10.13"
  }
 },
 "nbformat": 4,
 "nbformat_minor": 5
}
